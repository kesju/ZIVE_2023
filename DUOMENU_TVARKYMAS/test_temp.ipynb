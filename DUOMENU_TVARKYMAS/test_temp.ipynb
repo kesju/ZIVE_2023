{
 "cells": [
  {
   "cell_type": "code",
   "execution_count": 6,
   "metadata": {},
   "outputs": [
    {
     "name": "stdout",
     "output_type": "stream",
     "text": [
      "[(0, 1), (5, 6), (7, 8), (12, 13)]\n"
     ]
    }
   ],
   "source": [
    "lst =    ['s', 'f', 'f', 'f', 's', 's', 'f', 's', 'f', 'f', 'f', 'f', 's', 'f', 's', 's']\n",
    "sample = [ 0,   1,   2,   3,   4,   5,   6,   7,   8,   9,   10,  11,  12,  13,  14,  15]\n",
    "\n",
    "last_s_idx = -1\n",
    "result = []\n",
    "\n",
    "for i in sample:\n",
    "    if lst[i] == 's':\n",
    "        last_s_idx = i\n",
    "    elif lst[i] == 'f' and last_s_idx != -1 and i > last_s_idx:\n",
    "        result.append((last_s_idx, i))\n",
    "        last_s_idx = -1\n",
    "\n",
    "print(result)\n"
   ]
  }
 ],
 "metadata": {
  "kernelspec": {
   "display_name": "ecg_lnx38",
   "language": "python",
   "name": "python3"
  },
  "language_info": {
   "codemirror_mode": {
    "name": "ipython",
    "version": 3
   },
   "file_extension": ".py",
   "mimetype": "text/x-python",
   "name": "python",
   "nbconvert_exporter": "python",
   "pygments_lexer": "ipython3",
   "version": "3.8.13"
  },
  "orig_nbformat": 4
 },
 "nbformat": 4,
 "nbformat_minor": 2
}
